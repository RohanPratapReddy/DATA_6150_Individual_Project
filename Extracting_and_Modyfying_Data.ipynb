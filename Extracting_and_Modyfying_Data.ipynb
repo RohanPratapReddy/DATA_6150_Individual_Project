{
  "nbformat": 4,
  "nbformat_minor": 0,
  "metadata": {
    "colab": {
      "provenance": [],
      "authorship_tag": "ABX9TyMRA8YPgpdWZoqJh+VDUAZa",
      "include_colab_link": true
    },
    "kernelspec": {
      "name": "python3",
      "display_name": "Python 3"
    },
    "language_info": {
      "name": "python"
    }
  },
  "cells": [
    {
      "cell_type": "markdown",
      "metadata": {
        "id": "view-in-github",
        "colab_type": "text"
      },
      "source": [
        "<a href=\"https://colab.research.google.com/github/RohanPratapReddy/DATA_6150_Individual_Project/blob/main/Extracting_and_Modyfying_Data.ipynb\" target=\"_parent\"><img src=\"https://colab.research.google.com/assets/colab-badge.svg\" alt=\"Open In Colab\"/></a>"
      ]
    },
    {
      "cell_type": "code",
      "execution_count": null,
      "metadata": {
        "id": "zJUYcYhfyY4q"
      },
      "outputs": [],
      "source": [
        "try:\n",
        "  from acnportal.acndata import DataClient\n",
        "except ModuleNotFoundError:\n",
        "  !pip install acnportal"
      ]
    },
    {
      "cell_type": "markdown",
      "source": [],
      "metadata": {
        "id": "U9zpZf9D1Sq5"
      }
    },
    {
      "cell_type": "code",
      "source": [
        "import datetime\n",
        "Start = datetime.datetime(2020,4,25)\n",
        "End = datetime.datetime.now()"
      ],
      "metadata": {
        "id": "CtIYMNWy1Unq"
      },
      "execution_count": null,
      "outputs": []
    },
    {
      "cell_type": "code",
      "source": [
        "site_id = 'caltech'\n",
        "client = DataClient(api_token=\"CGr-ywZlC1J4gg5tjINtf4RDgz3MD6e5jT7xlauI4GY\")\n",
        "sessions = client.get_sessions_by_time(start=Start,end=End,site=site_id,timeseries=True)"
      ],
      "metadata": {
        "id": "ot27YukC0Q15"
      },
      "execution_count": null,
      "outputs": []
    },
    {
      "cell_type": "code",
      "source": [
        "# prompt: how to get json file from above sessions\n",
        "\n",
        "import json\n",
        "\n",
        "# Assuming 'sessions' is the variable holding the session data from the previous code.\n",
        "\n",
        "# Convert the sessions data to a JSON string\n",
        "sessions_json = json.dumps(sessions, indent=4, default=str)  # Use default=str to handle datetime objects\n",
        "\n",
        "# Print or save the JSON data to a file\n",
        "print(sessions_json)\n",
        "# or\n",
        "#with open('sessions_data.json', 'w') as f:\n",
        "    #f.write(sessions_json)"
      ],
      "metadata": {
        "colab": {
          "base_uri": "https://localhost:8080/"
        },
        "id": "Y8uctyu1TKzR",
        "outputId": "4ff162f0-65fb-4081-8714-7a792be4de12"
      },
      "execution_count": null,
      "outputs": [
        {
          "output_type": "stream",
          "name": "stdout",
          "text": [
            "\"<generator object DataClient.get_sessions at 0x784d0b89bbc0>\"\n"
          ]
        }
      ]
    },
    {
      "cell_type": "code",
      "source": [
        "# prompt: create a dictionary from the sessions data above\n",
        "\n",
        "data = {}\n",
        "for session in sessions:\n",
        "  data[session.session_id] = {\n",
        "      'start_time': session.start_time,\n",
        "      'end_time': session.end_time,\n",
        "      'Charging_time': session.charging_time,\n",
        "      'Connection_time': session.connection_time,\n",
        "      'Disconnect_time': session.disconnect_time,\n",
        "      'Done_charging_time': session.done_charging_time,\n",
        "      'Energy_delivered': session.energy_delivered,\n",
        "      'Energy_remaining': session.energy_remaining,\n",
        "      'Energy_limit': session.energy_limit,\n",
        "      'Energy_rate': session.energy_rate,\n",
        "      'Energy_rate_unit': session.energy_rate_unit,\n",
        "      'Energy_rate_multiplier': session.energy_rate_multiplier,\n",
        "      'Energy_rate_multiplier_unit': session.energy_rate_multiplier_unit,\n",
        "      'Session_id': session.session_id,\n",
        "      'Site_id': session.site,\n",
        "      'Station_id': session.station_id,\n",
        "      'Cluster_id': session.cluster_id,\n",
        "      'Space_id': session.space_id,\n",
        "      'Status': session.status,\n",
        "      'Timeseries': session.timeseries,\n",
        "      'User_id': session.user_id,\n",
        "  }"
      ],
      "metadata": {
        "id": "hXPeMhMMJQhD"
      },
      "execution_count": null,
      "outputs": []
    },
    {
      "cell_type": "code",
      "source": [
        "import pandas as pd\n",
        "df = pd.DataFrame(data)\n"
      ],
      "metadata": {
        "id": "F0bMgMdB4EzI"
      },
      "execution_count": null,
      "outputs": []
    },
    {
      "cell_type": "code",
      "source": [
        "data"
      ],
      "metadata": {
        "colab": {
          "base_uri": "https://localhost:8080/"
        },
        "id": "fUQ3ew9mdT_K",
        "outputId": "73eb5d56-9df5-4d98-d386-424578f4aa37"
      },
      "execution_count": null,
      "outputs": [
        {
          "output_type": "execute_result",
          "data": {
            "text/plain": [
              "{}"
            ]
          },
          "metadata": {},
          "execution_count": 8
        }
      ]
    },
    {
      "cell_type": "code",
      "source": [
        "df.head()"
      ],
      "metadata": {
        "colab": {
          "base_uri": "https://localhost:8080/",
          "height": 53
        },
        "id": "BLzcUlk4Q5bA",
        "outputId": "27ecdfd7-ce82-42d8-a22f-6c97ce7d445f"
      },
      "execution_count": null,
      "outputs": [
        {
          "output_type": "execute_result",
          "data": {
            "text/plain": [
              "Empty DataFrame\n",
              "Columns: []\n",
              "Index: []"
            ],
            "text/html": [
              "\n",
              "  <div id=\"df-7c51756f-55eb-4e39-99a2-a8345e1e2388\" class=\"colab-df-container\">\n",
              "    <div>\n",
              "<style scoped>\n",
              "    .dataframe tbody tr th:only-of-type {\n",
              "        vertical-align: middle;\n",
              "    }\n",
              "\n",
              "    .dataframe tbody tr th {\n",
              "        vertical-align: top;\n",
              "    }\n",
              "\n",
              "    .dataframe thead th {\n",
              "        text-align: right;\n",
              "    }\n",
              "</style>\n",
              "<table border=\"1\" class=\"dataframe\">\n",
              "  <thead>\n",
              "    <tr style=\"text-align: right;\">\n",
              "      <th></th>\n",
              "    </tr>\n",
              "  </thead>\n",
              "  <tbody>\n",
              "  </tbody>\n",
              "</table>\n",
              "</div>\n",
              "    <div class=\"colab-df-buttons\">\n",
              "\n",
              "  <div class=\"colab-df-container\">\n",
              "    <button class=\"colab-df-convert\" onclick=\"convertToInteractive('df-7c51756f-55eb-4e39-99a2-a8345e1e2388')\"\n",
              "            title=\"Convert this dataframe to an interactive table.\"\n",
              "            style=\"display:none;\">\n",
              "\n",
              "  <svg xmlns=\"http://www.w3.org/2000/svg\" height=\"24px\" viewBox=\"0 -960 960 960\">\n",
              "    <path d=\"M120-120v-720h720v720H120Zm60-500h600v-160H180v160Zm220 220h160v-160H400v160Zm0 220h160v-160H400v160ZM180-400h160v-160H180v160Zm440 0h160v-160H620v160ZM180-180h160v-160H180v160Zm440 0h160v-160H620v160Z\"/>\n",
              "  </svg>\n",
              "    </button>\n",
              "\n",
              "  <style>\n",
              "    .colab-df-container {\n",
              "      display:flex;\n",
              "      gap: 12px;\n",
              "    }\n",
              "\n",
              "    .colab-df-convert {\n",
              "      background-color: #E8F0FE;\n",
              "      border: none;\n",
              "      border-radius: 50%;\n",
              "      cursor: pointer;\n",
              "      display: none;\n",
              "      fill: #1967D2;\n",
              "      height: 32px;\n",
              "      padding: 0 0 0 0;\n",
              "      width: 32px;\n",
              "    }\n",
              "\n",
              "    .colab-df-convert:hover {\n",
              "      background-color: #E2EBFA;\n",
              "      box-shadow: 0px 1px 2px rgba(60, 64, 67, 0.3), 0px 1px 3px 1px rgba(60, 64, 67, 0.15);\n",
              "      fill: #174EA6;\n",
              "    }\n",
              "\n",
              "    .colab-df-buttons div {\n",
              "      margin-bottom: 4px;\n",
              "    }\n",
              "\n",
              "    [theme=dark] .colab-df-convert {\n",
              "      background-color: #3B4455;\n",
              "      fill: #D2E3FC;\n",
              "    }\n",
              "\n",
              "    [theme=dark] .colab-df-convert:hover {\n",
              "      background-color: #434B5C;\n",
              "      box-shadow: 0px 1px 3px 1px rgba(0, 0, 0, 0.15);\n",
              "      filter: drop-shadow(0px 1px 2px rgba(0, 0, 0, 0.3));\n",
              "      fill: #FFFFFF;\n",
              "    }\n",
              "  </style>\n",
              "\n",
              "    <script>\n",
              "      const buttonEl =\n",
              "        document.querySelector('#df-7c51756f-55eb-4e39-99a2-a8345e1e2388 button.colab-df-convert');\n",
              "      buttonEl.style.display =\n",
              "        google.colab.kernel.accessAllowed ? 'block' : 'none';\n",
              "\n",
              "      async function convertToInteractive(key) {\n",
              "        const element = document.querySelector('#df-7c51756f-55eb-4e39-99a2-a8345e1e2388');\n",
              "        const dataTable =\n",
              "          await google.colab.kernel.invokeFunction('convertToInteractive',\n",
              "                                                    [key], {});\n",
              "        if (!dataTable) return;\n",
              "\n",
              "        const docLinkHtml = 'Like what you see? Visit the ' +\n",
              "          '<a target=\"_blank\" href=https://colab.research.google.com/notebooks/data_table.ipynb>data table notebook</a>'\n",
              "          + ' to learn more about interactive tables.';\n",
              "        element.innerHTML = '';\n",
              "        dataTable['output_type'] = 'display_data';\n",
              "        await google.colab.output.renderOutput(dataTable, element);\n",
              "        const docLink = document.createElement('div');\n",
              "        docLink.innerHTML = docLinkHtml;\n",
              "        element.appendChild(docLink);\n",
              "      }\n",
              "    </script>\n",
              "  </div>\n",
              "\n",
              "\n",
              "    </div>\n",
              "  </div>\n"
            ],
            "application/vnd.google.colaboratory.intrinsic+json": {
              "type": "dataframe",
              "variable_name": "df",
              "summary": "{\n  \"name\": \"df\",\n  \"rows\": 0,\n  \"fields\": []\n}"
            }
          },
          "metadata": {},
          "execution_count": 9
        }
      ]
    }
  ]
}