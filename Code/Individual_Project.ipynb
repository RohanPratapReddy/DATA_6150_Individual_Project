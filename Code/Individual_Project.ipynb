{
  "nbformat": 4,
  "nbformat_minor": 0,
  "metadata": {
    "colab": {
      "provenance": []
    },
    "kernelspec": {
      "name": "python3",
      "display_name": "Python 3"
    },
    "language_info": {
      "name": "python"
    }
  },
  "cells": [
    {
      "cell_type": "markdown",
      "source": [
        "# Installing Packages\n"
      ],
      "metadata": {
        "id": "V04OIadiYJMs"
      }
    },
    {
      "cell_type": "code",
      "source": [
        "!pip install xgboost\n",
        "!pip install fbprophet\n",
        "!pip install keras\n",
        "!pip install tensorflow"
      ],
      "metadata": {
        "id": "DzakHMtQYn2J"
      },
      "execution_count": null,
      "outputs": []
    },
    {
      "cell_type": "markdown",
      "source": [
        "# Load the Libraries"
      ],
      "metadata": {
        "id": "KgypkWAfYzgE"
      }
    },
    {
      "cell_type": "code",
      "source": [
        "import pandas as pd\n",
        "import acndata_utils\n",
        "import Optimization_utils\n",
        "import pandas as pd\n",
        "import StationData_utils\n",
        "import StationForecast_utils"
      ],
      "metadata": {
        "id": "Zt7wpoBtYtIc"
      },
      "execution_count": null,
      "outputs": []
    },
    {
      "cell_type": "markdown",
      "source": [
        "# Load the Input Data"
      ],
      "metadata": {
        "id": "fZeHP-EeYy7o"
      }
    },
    {
      "cell_type": "code",
      "source": [
        "dfs = []\n",
        "for file_path in [\n",
        "    \"D:\\\\Individual Project\\\\Data\\\\acndata_sessions_Caltech.json\",\n",
        "    \"D:\\\\Individual Project\\\\Data\\\\acndata_sessions_JPL.json\",\n",
        "    \"D:\\\\Individual Project\\\\Data\\\\acndata_sessions_Office_1.json\"\n",
        "]:\n",
        "    df = acndata_utils.getdf(file_path)\n",
        "    if df is not None:\n",
        "        dfs.append(df)\n",
        "    else:\n",
        "        print(f\"Warning: {file_path} could not be processed and will be skipped.\")"
      ],
      "metadata": {
        "id": "lSxl_WodY6ve"
      },
      "execution_count": null,
      "outputs": []
    },
    {
      "cell_type": "markdown",
      "source": [
        "# Concat and sort all dataframes to get whole new data"
      ],
      "metadata": {
        "id": "KG9k0wE4ZSTD"
      }
    },
    {
      "cell_type": "code",
      "source": [
        "if dfs:\n",
        "    df = pd.concat(dfs).sort_values(by=\"_id\").reset_index(drop=True)\n",
        "    df = df.drop(columns=['_id'])\n",
        "    # Add new '_id' column as index_number\n",
        "    df.reset_index(inplace=True)\n",
        "    df.rename(columns={'index': '_id'}, inplace=True)\n",
        "    df = acndata_utils.clean_acndata(df)\n",
        "    print(df.shape)\n",
        "else:\n",
        "    print(\"No valid data available to process.\")"
      ],
      "metadata": {
        "id": "mdeL6w3rZcpV"
      },
      "execution_count": null,
      "outputs": []
    },
    {
      "cell_type": "markdown",
      "source": [
        "Save the Data. This is our user data."
      ],
      "metadata": {
        "id": "H7DIjD5kZfRT"
      }
    },
    {
      "cell_type": "code",
      "source": [
        "df.to_csv(\"D:\\\\Individual Project\\\\Data\\\\acndata.csv\", index=False)"
      ],
      "metadata": {
        "id": "ULI6b1cHZlbl"
      },
      "execution_count": null,
      "outputs": []
    },
    {
      "cell_type": "markdown",
      "source": [
        "# Converting Data to Station Data\n",
        "\n"
      ],
      "metadata": {
        "id": "HyIeqk3sZtYs"
      }
    },
    {
      "cell_type": "code",
      "source": [
        "df = StationData_utils.analyze_hourly_sessions(df)"
      ],
      "metadata": {
        "id": "IynoE0ObZy91"
      },
      "execution_count": null,
      "outputs": []
    },
    {
      "cell_type": "code",
      "source": [
        "df.head()"
      ],
      "metadata": {
        "id": "cjZwopEnaEvX"
      },
      "execution_count": null,
      "outputs": []
    },
    {
      "cell_type": "markdown",
      "source": [
        "convert to csv to store the data."
      ],
      "metadata": {
        "id": "MKRg9BK1aIgu"
      }
    },
    {
      "cell_type": "code",
      "source": [
        "df.to_csv(\"D:\\\\Individual Project\\\\Data\\\\stationdata.csv\",index=False)"
      ],
      "metadata": {
        "id": "s5k0P3yeaGRM"
      },
      "execution_count": null,
      "outputs": []
    },
    {
      "cell_type": "markdown",
      "source": [
        "Plotting The Data"
      ],
      "metadata": {
        "id": "008NUfyDaRp-"
      }
    },
    {
      "cell_type": "code",
      "source": [
        "StationData_utils.create_interactive_plot(df)"
      ],
      "metadata": {
        "id": "WRd8I3GLaUWH"
      },
      "execution_count": null,
      "outputs": []
    },
    {
      "cell_type": "markdown",
      "source": [
        "# Aggregating the data"
      ],
      "metadata": {
        "id": "9aluXuEqarq5"
      }
    },
    {
      "cell_type": "code",
      "source": [
        "df = df.groupby('date').agg({\n",
        "    'Average_Power': 'mean',\n",
        "    'chargingUsers': 'sum',\n",
        "    'standbyUsers': 'sum'\n",
        "}).reset_index()\n",
        "df.set_index('date', inplace=True)"
      ],
      "metadata": {
        "id": "F5xTfnhVaqVY"
      },
      "execution_count": null,
      "outputs": []
    },
    {
      "cell_type": "markdown",
      "source": [
        "# Ensure target column is numeric"
      ],
      "metadata": {
        "id": "3HeYNVlKa0Ty"
      }
    },
    {
      "cell_type": "code",
      "source": [
        "columns_to_check = ['Average_Power', 'chargingUsers', 'standbyUsers']\n",
        "existing_columns = [col for col in columns_to_check if col in df.columns]\n",
        "\n",
        "df[existing_columns] = df[existing_columns].apply(pd.to_numeric, errors='coerce')\n",
        "df = df.dropna()"
      ],
      "metadata": {
        "id": "mtwhF3a_a3Jo"
      },
      "execution_count": null,
      "outputs": []
    },
    {
      "cell_type": "markdown",
      "source": [
        "# Forecasting and plotting charts using ARIMA, SARIMAX, Prophet, Random Forest, Decision Tree, XGBoost and LSTM"
      ],
      "metadata": {
        "id": "Xis51c-aa_7x"
      }
    },
    {
      "cell_type": "code",
      "source": [
        "df_new = df.copy()\n",
        "for column in ['Average_Power', 'chargingUsers', 'standbyUsers']:\n",
        "    train, test = StationForecast_utils.Train_Test(df_new, column)\n",
        "    print(f\"Running models for {column}...\")\n",
        "\n",
        "    arima_preds = StationForecast_utils.arima_forecast(train, test)\n",
        "    sarimax_preds = StationForecast_utils.sarimax_forecast(train, test)\n",
        "    prophet_preds = StationForecast_utils.prophet_forecast(df_new,column)\n",
        "    tree_preds_rf = StationForecast_utils.tree_based_forecast(train, test, \"RandomForest\")\n",
        "    tree_preds_dt = StationForecast_utils.tree_based_forecast(train, test, \"DecisionTree\")\n",
        "    tree_preds_xgb = StationForecast_utils.tree_based_forecast(train, test, \"XGBoost\")\n",
        "    lstm_preds = StationForecast_utils.lstm_forecast(train, test)\n",
        "\n",
        "    StationForecast_utils.plot_last_day_forecast(test, arima_preds, \"ARIMA\")\n",
        "    StationForecast_utils.plot_last_day_forecast(test, sarimax_preds, \"SARIMAX\")\n",
        "    StationForecast_utils.plot_last_day_forecast(test, prophet_preds, \"Prophet\")\n",
        "    StationForecast_utils.plot_last_day_forecast(test, tree_preds_rf, \"RandomForest\")\n",
        "    StationForecast_utils.plot_last_day_forecast(test, tree_preds_dt, \"DecisionTree\")\n",
        "    StationForecast_utils.plot_last_day_forecast(test, tree_preds_xgb, \"XGBoost\")\n",
        "    StationForecast_utils.plot_last_day_forecast(test, lstm_preds, \"LSTM\")"
      ],
      "metadata": {
        "id": "a501V3XObR16"
      },
      "execution_count": null,
      "outputs": []
    },
    {
      "cell_type": "markdown",
      "source": [
        "# What is the seasonal charging behavior of EV charging vehicles?"
      ],
      "metadata": {
        "id": "KfsS3uymb8GU"
      }
    },
    {
      "cell_type": "code",
      "source": [
        "data = df.copy()\n",
        "preprocessed_data = StationData_utils.preprocess_data(data)\n",
        "monthly_behavior, weekday_behavior, daily_behavior, yearly_behavior = StationData_utils.aggregate_behavior(preprocessed_data)\n",
        "\n",
        "# Plot for 'chargingUsers'\n",
        "StationData_utils.plot_behavior(monthly_behavior, weekday_behavior, daily_behavior, yearly_behavior, 'chargingUsers')\n",
        "\n",
        "# Plot for 'standbyUsers'\n",
        "StationData_utils.plot_behavior(monthly_behavior, weekday_behavior, daily_behavior, yearly_behavior, 'standbyUsers')\n",
        "\n"
      ],
      "metadata": {
        "id": "0ZTaZ9gCb-9n"
      },
      "execution_count": null,
      "outputs": []
    },
    {
      "cell_type": "markdown",
      "source": [
        "# How is daily, weekly, monthly and yearly Load Demand of EV charging?"
      ],
      "metadata": {
        "id": "t-hMkuERcMMW"
      }
    },
    {
      "cell_type": "code",
      "source": [
        "# Plot for 'Energy_Consumed'\n",
        "StationData_utils.plot_behavior(monthly_behavior, weekday_behavior, daily_behavior, yearly_behavior, 'Energy_Consumed')"
      ],
      "metadata": {
        "id": "ihvcamxCcODA"
      },
      "execution_count": null,
      "outputs": []
    },
    {
      "cell_type": "markdown",
      "source": [
        "# What is the average duration of charging sessions, and how does it vary across different stations?"
      ],
      "metadata": {
        "id": "nvXzr15AcTo6"
      }
    },
    {
      "cell_type": "code",
      "source": [
        "df = pd.read_csv(\"D:\\\\Individual Project\\\\Data\\\\acndata.csv\")\n",
        "\n",
        "\n",
        "avg_time, station_avg_time = acndata_utils.calculate_charging_time_statistics(df)\n",
        "print(\"Average charging time across all sessions:\", avg_time)\n",
        "print(\"\\nAverage charging time per station:\")\n",
        "print(station_avg_time)"
      ],
      "metadata": {
        "id": "Dn8WHP0zcc4G"
      },
      "execution_count": null,
      "outputs": []
    },
    {
      "cell_type": "markdown",
      "source": [
        "# Optimization of user, station Data"
      ],
      "metadata": {
        "id": "xaYu_uBRcgXG"
      }
    },
    {
      "cell_type": "code",
      "source": [
        "acndata = pd.read_csv(\"D:\\\\Individual Project\\\\Data\\\\acndata.csv\")\n",
        "stationdata = pd.read_csv(\"D:\\\\Individual Project\\\\Data\\\\stationdata.csv\")\n",
        "electricity_pricing = pd.read_csv(\"D:\\\\Individual Project\\\\Data\\\\Historical_Electricity_Pricing_2019_2021.csv\")\n"
      ],
      "metadata": {
        "id": "dkPk_IIEclsc"
      },
      "execution_count": null,
      "outputs": []
    },
    {
      "cell_type": "markdown",
      "source": [
        "# Preprocess and compute necessary fields"
      ],
      "metadata": {
        "id": "41WtcClzcwag"
      }
    },
    {
      "cell_type": "code",
      "source": [
        " acndata, stationdata = Optimization_utils.preprocess_data(acndata, stationdata)\n",
        "stationdata = Optimization_utils.calculate_power_new(stationdata, acndata)\n",
        "acndata, stationdata = Optimization_utils.calculate_session_energy(acndata, stationdata)\n",
        "acndata, stationdata = Optimization_utils.link_pricing_data(acndata, stationdata, electricity_pricing)\n"
      ],
      "metadata": {
        "id": "N3aLsMyacumb"
      },
      "execution_count": null,
      "outputs": []
    },
    {
      "cell_type": "markdown",
      "source": [
        "# Perform joint optimization"
      ],
      "metadata": {
        "id": "LtgbqjMVc2XX"
      }
    },
    {
      "cell_type": "code",
      "source": [
        "acndata, stationdata = Optimization_utils.fast_optimization(acndata, stationdata)"
      ],
      "metadata": {
        "id": "4PTGlCSuc1g9"
      },
      "execution_count": null,
      "outputs": []
    },
    {
      "cell_type": "markdown",
      "source": [
        "# Save results"
      ],
      "metadata": {
        "id": "TepRwWm-c8ZG"
      }
    },
    {
      "cell_type": "code",
      "source": [
        "acndata.to_csv('optimized_acndata.csv', index=False)\n",
        "stationdata.to_csv('optimized_stationdata.csv', index=False)"
      ],
      "metadata": {
        "id": "1KGT3hLhdB3z"
      },
      "execution_count": null,
      "outputs": []
    },
    {
      "cell_type": "markdown",
      "source": [
        "# What percentage of connected time is actually spent charging, and how does this vary across stations?"
      ],
      "metadata": {
        "id": "1Lp5Hd33dD2-"
      }
    },
    {
      "cell_type": "code",
      "source": [
        "Optimization_utils.generate_charging_time_chart(acndata)"
      ],
      "metadata": {
        "id": "Zl-ehxbIdZZR"
      },
      "execution_count": null,
      "outputs": []
    },
    {
      "cell_type": "markdown",
      "source": [
        "# How are the tariffs across different period of time?"
      ],
      "metadata": {
        "id": "1-iVSg50dhWX"
      }
    },
    {
      "cell_type": "code",
      "source": [
        "Optimization_utils.plot_tariffs_over_time(electricity_pricing)"
      ],
      "metadata": {
        "id": "185iZ0QSdgan"
      },
      "execution_count": null,
      "outputs": []
    },
    {
      "cell_type": "markdown",
      "source": [
        "# What is the potential impact on grid load if we shift a percentage of charging sessions from peak to off-peak hours, and how would this affect overall charging costs?"
      ],
      "metadata": {
        "id": "rdxLbYLzds1U"
      }
    },
    {
      "cell_type": "markdown",
      "source": [
        "Preprocess data"
      ],
      "metadata": {
        "id": "aMsFtZoady9t"
      }
    },
    {
      "cell_type": "code",
      "source": [
        "stationdata['session_start'] = pd.to_datetime(stationdata['session_start'])\n",
        "    stationdata['session_end'] = pd.to_datetime(stationdata['session_end'])\n",
        "    stationdata['Year'] = stationdata['session_start'].dt.year\n",
        "    stationdata['Season'] = stationdata['session_start'].dt.month.map({\n",
        "        1: 'Winter', 2: 'Winter', 3: 'Spring', 4: 'Spring',\n",
        "        5: 'Spring', 6: 'Summer', 7: 'Summer', 8: 'Summer',\n",
        "        9: 'Fall', 10: 'Fall', 11: 'Fall', 12: 'Winter'\n",
        "    })"
      ],
      "metadata": {
        "id": "K_COkY04dw7N"
      },
      "execution_count": null,
      "outputs": []
    },
    {
      "cell_type": "markdown",
      "source": [
        "Original load and cost"
      ],
      "metadata": {
        "id": "IxjRMTwOd3Yt"
      }
    },
    {
      "cell_type": "code",
      "source": [
        "original_load, original_cost = Optimization_utils.calculate_grid_load_and_cost(stationdata, electricity_pricing)\n"
      ],
      "metadata": {
        "id": "Ui9bolgTd5C_"
      },
      "execution_count": null,
      "outputs": []
    },
    {
      "cell_type": "markdown",
      "source": [
        "Shift charging sessions"
      ],
      "metadata": {
        "id": "WoMK5zSId7mF"
      }
    },
    {
      "cell_type": "code",
      "source": [
        "shifted_stationdata = Optimization_utils.shift_charging_sessions(stationdata, shift_percentage=30)\n"
      ],
      "metadata": {
        "id": "pEIiaTaed9gy"
      },
      "execution_count": null,
      "outputs": []
    },
    {
      "cell_type": "markdown",
      "source": [
        "Shifted load and cost"
      ],
      "metadata": {
        "id": "m9zx1DtPeC69"
      }
    },
    {
      "cell_type": "code",
      "source": [
        "shifted_load, shifted_cost = Optimization_utils.calculate_grid_load_and_cost(shifted_stationdata,\n",
        "                                                                                 electricity_pricing)\n"
      ],
      "metadata": {
        "id": "eF0Nzu2reFlM"
      },
      "execution_count": null,
      "outputs": []
    },
    {
      "cell_type": "markdown",
      "source": [
        "Plot results"
      ],
      "metadata": {
        "id": "LqGoh1SNeKQ3"
      }
    },
    {
      "cell_type": "code",
      "source": [
        "Optimization_utils.plot_comparison(original_load, shifted_load)"
      ],
      "metadata": {
        "id": "npteBdGMeJMP"
      },
      "execution_count": null,
      "outputs": []
    }
  ]
}